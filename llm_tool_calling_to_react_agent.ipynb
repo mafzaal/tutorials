{
 "cells": [
  {
   "cell_type": "markdown",
   "id": "3cd27024",
   "metadata": {},
   "source": [
    "# LLM Tool Calling to ReAct Agent Tutorial\n",
    "\n",
    "This tutorial progressively builds from basic LLM tool calling concepts to implementing a full ReAct agent.\n",
    "\n",
    "## What we'll cover:\n",
    "### Part 1\n",
    "1. **Basic Tool Calling**: Understanding the fundamentals\n",
    "2. **LangChain Integration**: Using LangChain for tool calling\n",
    "### Part 2\n",
    "3. **LangGraph Integration**: Building more complex workflows\n",
    "4. **ReAct Agent**: Implementing a complete ReAct (Reasoning and Acting) agent\n",
    "\n",
    "Let's start with the basics and work our way up!"
   ]
  },
  {
   "cell_type": "markdown",
   "id": "054b24fc",
   "metadata": {},
   "source": [
    "## 1. Basic Tool Calling Fundamentals\n",
    "\n",
    "Before diving into frameworks, let's understand the core concepts of tool calling with LLMs.\n",
    "\n",
    "> uv install guide at https://docs.astral.sh/uv/guides/install-python/"
   ]
  },
  {
   "cell_type": "code",
   "execution_count": null,
   "id": "66e5d8d7",
   "metadata": {},
   "outputs": [],
   "source": [
    "# Install required packages\n",
    "# !pip install openai langchain langgraph langchain-openai"
   ]
  },
  {
   "cell_type": "code",
   "execution_count": 1,
   "id": "4e69bb92",
   "metadata": {},
   "outputs": [],
   "source": [
    "import json\n",
    "import os\n",
    "from openai import OpenAI\n",
    "import getpass\n",
    "\n",
    "os.environ[\"OPENAI_API_KEY\"] = getpass.getpass(\"Enter your OpenAI API key: \")\n",
    "# Initialize OpenAI client\n",
    "client = OpenAI()"
   ]
  },
  {
   "cell_type": "markdown",
   "id": "90de8cfb",
   "metadata": {},
   "source": [
    "### Step 1.1: Define a Simple Tool\n",
    "\n",
    "Let's start with a basic calculator tool to understand the structure."
   ]
  },
  {
   "cell_type": "code",
   "execution_count": 76,
   "id": "647eac50",
   "metadata": {},
   "outputs": [
    {
     "name": "stdout",
     "output_type": "stream",
     "text": [
      "2 + 3 = 5\n",
      "10 / 2 = 5.0\n"
     ]
    }
   ],
   "source": [
    "from typing import Union\n",
    "\n",
    "def calculator(operation: str, a: float, b: float) -> Union[float, str]:\n",
    "    \"\"\"A simple calculator function\"\"\"\n",
    "    if operation == \"add\":\n",
    "        return a + b\n",
    "    elif operation == \"subtract\":\n",
    "        return a - b\n",
    "    elif operation == \"multiply\":\n",
    "        return a * b\n",
    "    elif operation == \"divide\":\n",
    "        if b != 0:\n",
    "            return a / b\n",
    "        else:\n",
    "            return \"Error: Division by zero\"\n",
    "    else:\n",
    "        return \"Error: Unsupported operation\"\n",
    "\n",
    "# Test the function\n",
    "print(f\"2 + 3 = {calculator('add', 2, 3)}\")\n",
    "print(f\"10 / 2 = {calculator('divide', 10, 2)}\")"
   ]
  },
  {
   "cell_type": "markdown",
   "id": "247ca64e",
   "metadata": {},
   "source": [
    "### Step 1.2: Define Tool Schema for LLM\n",
    "\n",
    "The LLM needs to understand what tools are available and how to use them. We define this using a schema."
   ]
  },
  {
   "cell_type": "code",
   "execution_count": 77,
   "id": "d489506a",
   "metadata": {},
   "outputs": [
    {
     "name": "stdout",
     "output_type": "stream",
     "text": [
      "Tool schema defined:\n",
      "{\n",
      "  \"type\": \"function\",\n",
      "  \"function\": {\n",
      "    \"name\": \"calculator\",\n",
      "    \"description\": \"Perform basic arithmetic operations (add, subtract, multiply, divide)\",\n",
      "    \"parameters\": {\n",
      "      \"type\": \"object\",\n",
      "      \"properties\": {\n",
      "        \"operation\": {\n",
      "          \"type\": \"string\",\n",
      "          \"enum\": [\n",
      "            \"add\",\n",
      "            \"subtract\",\n",
      "            \"multiply\",\n",
      "            \"divide\"\n",
      "          ],\n",
      "          \"description\": \"The arithmetic operation to perform\"\n",
      "        },\n",
      "        \"a\": {\n",
      "          \"type\": \"number\",\n",
      "          \"description\": \"The first number\"\n",
      "        },\n",
      "        \"b\": {\n",
      "          \"type\": \"number\",\n",
      "          \"description\": \"The second number\"\n",
      "        }\n",
      "      },\n",
      "      \"required\": [\n",
      "        \"operation\",\n",
      "        \"a\",\n",
      "        \"b\"\n",
      "      ]\n",
      "    }\n",
      "  }\n",
      "}\n"
     ]
    }
   ],
   "source": [
    "# Tool schema that describes our calculator to the LLM\n",
    "tool_schema = {\n",
    "    \"type\": \"function\",\n",
    "    \"function\": {\n",
    "        \"name\": \"calculator\",\n",
    "        \"description\": \"Perform basic arithmetic operations (add, subtract, multiply, divide)\",\n",
    "        \"parameters\": {\n",
    "            \"type\": \"object\",\n",
    "            \"properties\": {\n",
    "                \"operation\": {\n",
    "                    \"type\": \"string\",\n",
    "                    \"enum\": [\"add\", \"subtract\", \"multiply\", \"divide\"],\n",
    "                    \"description\": \"The arithmetic operation to perform\"\n",
    "                },\n",
    "                \"a\": {\n",
    "                    \"type\": \"number\",\n",
    "                    \"description\": \"The first number\"\n",
    "                },\n",
    "                \"b\": {\n",
    "                    \"type\": \"number\",\n",
    "                    \"description\": \"The second number\"\n",
    "                }\n",
    "            },\n",
    "            \"required\": [\"operation\", \"a\", \"b\"]\n",
    "        }\n",
    "    }\n",
    "}\n",
    "\n",
    "print(\"Tool schema defined:\")\n",
    "print(json.dumps(tool_schema, indent=2))"
   ]
  },
  {
   "cell_type": "markdown",
   "id": "ef2f8272",
   "metadata": {},
   "source": [
    "### Step 1.3: Basic Tool Calling with OpenAI\n",
    "\n",
    "Now let's see how the LLM decides to call our tool."
   ]
  },
  {
   "cell_type": "code",
   "execution_count": 78,
   "id": "d464bc2d",
   "metadata": {},
   "outputs": [
    {
     "name": "stdout",
     "output_type": "stream",
     "text": [
      "User: What is 25 + 17?\n",
      "\n",
      "LLM Response:\n",
      "ChatCompletionMessage(content=None, refusal=None, role='assistant', annotations=[], audio=None, function_call=None, tool_calls=[ChatCompletionMessageToolCall(id='call_pdqNrXHJbbPac1N6zMEOTee3', function=Function(arguments='{\"operation\":\"add\",\"a\":25,\"b\":17}', name='calculator'), type='function')])\n"
     ]
    }
   ],
   "source": [
    "def call_llm_with_tools(user_message: str):\n",
    "    \"\"\"Call LLM with tool calling capability\"\"\"\n",
    "    \n",
    "    # Send message to LLM with tool available\n",
    "    response = client.chat.completions.create(\n",
    "        model=\"gpt-3.5-turbo\",  # or use \"gpt-4o-mini\" for OpenAI's latest model\n",
    "        messages=[\n",
    "            {\"role\": \"user\", \"content\": user_message}\n",
    "        ],\n",
    "        tools=[tool_schema], # type: ignore\n",
    "        tool_choice=\"required\"  # Let the LLM decide whether to use tools\n",
    "    )\n",
    "    \n",
    "    return response\n",
    "\n",
    "# Test with a mathematical question\n",
    "user_query = \"What is 25 + 17?\"\n",
    "print(f\"User: {user_query}\\n\")\n",
    "\n",
    "response = call_llm_with_tools(user_query)\n",
    "print(\"LLM Response:\")\n",
    "print(response.choices[0].message)"
   ]
  },
  {
   "cell_type": "markdown",
   "id": "51d15a30",
   "metadata": {},
   "source": [
    "### Step 1.4: Handle Tool Calls\n",
    "\n",
    "When the LLM decides to use a tool, we need to execute it and send the results back."
   ]
  },
  {
   "cell_type": "code",
   "execution_count": 7,
   "id": "18eae318",
   "metadata": {},
   "outputs": [
    {
     "name": "stdout",
     "output_type": "stream",
     "text": [
      "🔧 LLM decided to use a tool!\n",
      "Tool: calculator\n",
      "Arguments: {'operation': 'add', 'a': 25, 'b': 17}\n",
      "Result: 42\n",
      "\n",
      "✅ Final Answer: 42\n"
     ]
    }
   ],
   "source": [
    "def execute_tool_calls(response):\n",
    "    \"\"\"Execute tool calls from LLM response\"\"\"\n",
    "    \n",
    "    message = response.choices[0].message\n",
    "    \n",
    "    # Check if the LLM wants to call a tool\n",
    "    if message.tool_calls:\n",
    "        print(\"🔧 LLM decided to use a tool!\")\n",
    "        \n",
    "        # Process each tool call\n",
    "        for tool_call in message.tool_calls:\n",
    "            function_name = tool_call.function.name\n",
    "            function_args = json.loads(tool_call.function.arguments)\n",
    "            \n",
    "            print(f\"Tool: {function_name}\")\n",
    "            print(f\"Arguments: {function_args}\")\n",
    "            \n",
    "            # Execute our calculator function\n",
    "            if function_name == \"calculator\":\n",
    "                result = calculator(\n",
    "                    function_args[\"operation\"],\n",
    "                    function_args[\"a\"],\n",
    "                    function_args[\"b\"]\n",
    "                )\n",
    "                print(f\"Result: {result}\")\n",
    "                return result\n",
    "    else:\n",
    "        print(\"📝 LLM responded without using tools:\")\n",
    "        print(message.content)\n",
    "        return message.content\n",
    "\n",
    "# Execute the tool call from our previous response\n",
    "result = execute_tool_calls(response)\n",
    "print(f\"\\n✅ Final Answer: {result}\")"
   ]
  },
  {
   "cell_type": "markdown",
   "id": "5c9d9b52",
   "metadata": {},
   "source": [
    "### Step 1.5: Complete Tool Calling Flow\n",
    "\n",
    "Let's put it all together in a complete function that handles the full flow."
   ]
  },
  {
   "cell_type": "code",
   "execution_count": null,
   "id": "2f08dc38",
   "metadata": {},
   "outputs": [
    {
     "name": "stdout",
     "output_type": "stream",
     "text": [
      "👤 User: Calculate 15 * 8 for me\n",
      "\n",
      "🤖 LLM: I need to use the calculator tool...\n",
      "\n",
      "🔧 Calling calculator with {'operation': 'multiply', 'a': 15, 'b': 8}\n",
      "📊 Tool result: 120\n",
      "\n",
      "🤖 LLM: I need to use the calculator tool...\n",
      "\n",
      "🔧 Calling calculator with {'operation': 'multiply', 'a': 15, 'b': 8}\n",
      "📊 Tool result: 120\n",
      "\n",
      "🤖 LLM Final Response: 15 * 8 equals 120.\n",
      "\n",
      "==================================================\n",
      "\n",
      "👤 User: What's the weather like?\n",
      "\n",
      "🤖 LLM Final Response: 15 * 8 equals 120.\n",
      "\n",
      "==================================================\n",
      "\n",
      "👤 User: What's the weather like?\n",
      "\n",
      "🤖 LLM: I'm not able to provide real-time weather updates. If you'd like, I can help you with some other requests or tasks. Just let me know how I can assist you today!\n",
      "🤖 LLM: I'm not able to provide real-time weather updates. If you'd like, I can help you with some other requests or tasks. Just let me know how I can assist you today!\n"
     ]
    }
   ],
   "source": [
    "def complete_tool_calling_flow(user_message: str):\n",
    "    \"\"\"Complete flow: User message -> LLM -> Tool execution -> Final response\"\"\"\n",
    "    \n",
    "    print(f\"👤 User: {user_message}\\n\")\n",
    "    \n",
    "    # Step 1: Send user message to LLM\n",
    "    response = client.chat.completions.create(\n",
    "        model=\"gpt-3.5-turbo\",\n",
    "        messages=[{\"role\": \"user\", \"content\": user_message}],\n",
    "        tools=[tool_schema],  # type: ignore\n",
    "        tool_choice=\"auto\"\n",
    "    )\n",
    "    \n",
    "    message = response.choices[0].message\n",
    "    \n",
    "    # Step 2: Check if LLM wants to use tools\n",
    "    if message.tool_calls:\n",
    "        # Step 3: Execute tool calls\n",
    "        tool_results = []\n",
    "        for tool_call in message.tool_calls:\n",
    "            function_name = tool_call.function.name\n",
    "            function_args = json.loads(tool_call.function.arguments)\n",
    "            \n",
    "            if function_name == \"calculator\":\n",
    "                result = calculator(\n",
    "                    function_args[\"operation\"],\n",
    "                    function_args[\"a\"],\n",
    "                    function_args[\"b\"]\n",
    "                )\n",
    "                tool_results.append({\n",
    "                    \"tool_call_id\": tool_call.id,\n",
    "                    \"role\": \"tool\",\n",
    "                    \"name\": function_name,\n",
    "                    \"content\": str(result)\n",
    "                })\n",
    "        \n",
    "        # Step 4: Send tool results back to LLM for final response\n",
    "        final_response = client.chat.completions.create(\n",
    "            model=\"gpt-3.5-turbo\",\n",
    "            messages=[\n",
    "                {\"role\": \"user\", \"content\": user_message},\n",
    "                message, # type: ignore\n",
    "                *tool_results\n",
    "            ]\n",
    "        )\n",
    "        \n",
    "        final_answer = final_response.choices[0].message.content\n",
    "        print(f\"🤖 LLM Final Response: {final_answer}\")\n",
    "        \n",
    "    else:\n",
    "        print(f\"🤖 LLM: {message.content}\")\n",
    "\n",
    "# Test the complete flow\n",
    "complete_tool_calling_flow(\"Calculate 15 * 8 for me\")\n",
    "print(\"\\n\" + \"=\"*50 + \"\\n\")\n",
    "complete_tool_calling_flow(\"What's the weather like?\")  # Should not use calculator"
   ]
  },
  {
   "cell_type": "markdown",
   "id": "bade7328",
   "metadata": {},
   "source": [
    "## 2. LangChain Integration\n",
    "\n",
    "Now let's see how LangChain simplifies tool calling with its built-in abstractions.\n",
    "\n",
    "> [LangChain Runnable](https://python.langchain.com/api_reference/core/runnables/langchain_core.runnables.base.Runnable.html)"
   ]
  },
  {
   "cell_type": "code",
   "execution_count": null,
   "id": "5d071b7a",
   "metadata": {},
   "outputs": [],
   "source": [
    "from langchain.tools import tool\n",
    "from langchain_openai import ChatOpenAI\n",
    "from langchain.schema import HumanMessage\n",
    "from langchain.agents import AgentExecutor, create_tool_calling_agent"
   ]
  },
  {
   "cell_type": "markdown",
   "id": "8ea17ecb",
   "metadata": {},
   "source": [
    "### Step 2.1: Define Tools with LangChain Decorators\n",
    "\n",
    "LangChain provides a simple `@tool` decorator to define tools."
   ]
  },
  {
   "cell_type": "code",
   "execution_count": 11,
   "id": "81833c42",
   "metadata": {},
   "outputs": [
    {
     "name": "stdout",
     "output_type": "stream",
     "text": [
      "Calculator tool:\n",
      "Name: calculator_tool\n",
      "Description: Perform basic arithmetic operations (add, subtract, multiply, divide).\n",
      "\n",
      "Args:\n",
      "    operation: The operation to perform (add, subtract, multiply, divide)\n",
      "    a: First number\n",
      "    b: Second number\n",
      "\n",
      "Returns:\n",
      "    The result of the arithmetic operation\n",
      "Args schema: {'operation': {'title': 'Operation', 'type': 'string'}, 'a': {'title': 'A', 'type': 'number'}, 'b': {'title': 'B', 'type': 'number'}}\n",
      "\n",
      "Word length tool:\n",
      "Name: get_word_length\n",
      "Description: Get the length of a word.\n",
      "\n",
      "Args:\n",
      "    word: The word to count characters for\n",
      "\n",
      "Returns:\n",
      "    Number of characters in the word\n"
     ]
    }
   ],
   "source": [
    "@tool\n",
    "def calculator_tool(operation: str, a: float, b: float) -> Union[float, str]:\n",
    "    \"\"\"Perform basic arithmetic operations (add, subtract, multiply, divide).\n",
    "    \n",
    "    Args:\n",
    "        operation: The operation to perform (add, subtract, multiply, divide)\n",
    "        a: First number\n",
    "        b: Second number\n",
    "    \n",
    "    Returns:\n",
    "        The result of the arithmetic operation\n",
    "    \"\"\"\n",
    "    if operation == \"add\":\n",
    "        return a + b\n",
    "    elif operation == \"subtract\":\n",
    "        return a - b\n",
    "    elif operation == \"multiply\":\n",
    "        return a * b\n",
    "    elif operation == \"divide\":\n",
    "        if b != 0:\n",
    "            return a / b\n",
    "        else:\n",
    "            return \"Error: Division by zero\"\n",
    "    else:\n",
    "        return \"Error: Unsupported operation\"\n",
    "\n",
    "@tool\n",
    "def get_word_length(word: str) -> int:\n",
    "    \"\"\"Get the length of a word.\n",
    "    \n",
    "    Args:\n",
    "        word: The word to count characters for\n",
    "    \n",
    "    Returns:\n",
    "        Number of characters in the word\n",
    "    \"\"\"\n",
    "    return len(word)\n",
    "\n",
    "# Let's see what LangChain created for us\n",
    "print(\"Calculator tool:\")\n",
    "print(f\"Name: {calculator_tool.name}\")\n",
    "print(f\"Description: {calculator_tool.description}\")\n",
    "print(f\"Args schema: {calculator_tool.args}\")\n",
    "\n",
    "print(\"\\nWord length tool:\")\n",
    "print(f\"Name: {get_word_length.name}\")\n",
    "print(f\"Description: {get_word_length.description}\")"
   ]
  },
  {
   "cell_type": "markdown",
   "id": "ae13f096",
   "metadata": {},
   "source": [
    "### Step 2.2: Simple Tool Calling with LangChain\n",
    "\n",
    "LangChain makes it much easier to bind tools to an LLM and handle the calling."
   ]
  },
  {
   "cell_type": "code",
   "execution_count": 51,
   "id": "1c343bba",
   "metadata": {},
   "outputs": [
    {
     "name": "stdout",
     "output_type": "stream",
     "text": [
      "👤 User: What is 20 divided by 4?\n",
      "🤖 LLM Response type: <class 'langchain_core.messages.ai.AIMessage'>\n",
      "🤖 Content: \n",
      "🔧 Tool calls: 1\n",
      "   - calculator_tool with args: {'operation': 'divide', 'a': 20, 'b': 4}\n",
      "\n",
      "----------------------------------------\n",
      "\n",
      "👤 User: How many letters are in the word 'LangChain'?\n",
      "🤖 LLM Response type: <class 'langchain_core.messages.ai.AIMessage'>\n",
      "🤖 Content: \n",
      "🔧 Tool calls: 1\n",
      "   - calculator_tool with args: {'operation': 'divide', 'a': 20, 'b': 4}\n",
      "\n",
      "----------------------------------------\n",
      "\n",
      "👤 User: How many letters are in the word 'LangChain'?\n",
      "🤖 LLM Response type: <class 'langchain_core.messages.ai.AIMessage'>\n",
      "🤖 Content: \n",
      "🔧 Tool calls: 1\n",
      "   - get_word_length with args: {'word': 'LangChain'}\n",
      "🤖 LLM Response type: <class 'langchain_core.messages.ai.AIMessage'>\n",
      "🤖 Content: \n",
      "🔧 Tool calls: 1\n",
      "   - get_word_length with args: {'word': 'LangChain'}\n"
     ]
    }
   ],
   "source": [
    "# Initialize LangChain LLM\n",
    "llm = ChatOpenAI(model=\"gpt-4o-mini\")\n",
    "\n",
    "# Bind tools to the LLM\n",
    "tools = [calculator_tool, get_word_length]\n",
    "llm_with_tools = llm.bind_tools(tools)\n",
    "\n",
    "# Simple usage\n",
    "def simple_langchain_tool_call(user_message: str):\n",
    "    print(f\"👤 User: {user_message}\")\n",
    "    \n",
    "    # Get LLM response\n",
    "    response = llm_with_tools.invoke([HumanMessage(content=user_message)])\n",
    "    \n",
    "    print(f\"🤖 LLM Response type: {type(response)}\")\n",
    "    print(f\"🤖 Content: {response.content}\")\n",
    "    \n",
    "    # Check for tool calls\n",
    "    if response.tool_calls: # type: ignore\n",
    "        print(f\"🔧 Tool calls: {len(response.tool_calls)}\") # type: ignore\n",
    "        for tool_call in response.tool_calls: # type: ignore\n",
    "            print(f\"   - {tool_call['name']} with args: {tool_call['args']}\")\n",
    "    \n",
    "    return response\n",
    "\n",
    "# Test it\n",
    "response1 = simple_langchain_tool_call(\"What is 20 divided by 4?\")\n",
    "print(\"\\n\" + \"-\"*40 + \"\\n\")\n",
    "response2 = simple_langchain_tool_call(\"How many letters are in the word 'LangChain'?\")"
   ]
  },
  {
   "cell_type": "markdown",
   "id": "e1e9ce34",
   "metadata": {},
   "source": [
    "### Step 2.3: Tool Calling Agent with LangChain\n",
    "\n",
    "LangChain provides pre-built agents that automatically handle the tool calling loop."
   ]
  },
  {
   "cell_type": "code",
   "execution_count": 52,
   "id": "57f84252",
   "metadata": {},
   "outputs": [
    {
     "name": "stdout",
     "output_type": "stream",
     "text": [
      "\n",
      "🔍 Testing: Calculate 15 * 7, then tell me how many letters are in 'calculator'\n",
      "--------------------------------------------------\n",
      "\n",
      "\n",
      "\u001b[1m> Entering new AgentExecutor chain...\u001b[0m\n",
      "\u001b[32;1m\u001b[1;3m\n",
      "Invoking: `calculator_tool` with `{'operation': 'multiply', 'a': 15, 'b': 7}`\n",
      "\n",
      "\n",
      "\u001b[0m\u001b[36;1m\u001b[1;3m105.0\u001b[0m\u001b[32;1m\u001b[1;3m\n",
      "Invoking: `get_word_length` with `{'word': 'calculator'}`\n",
      "\n",
      "\n",
      "\u001b[0m\u001b[33;1m\u001b[1;3m10\u001b[0m\u001b[32;1m\u001b[1;3m\n",
      "Invoking: `calculator_tool` with `{'operation': 'multiply', 'a': 15, 'b': 7}`\n",
      "\n",
      "\n",
      "\u001b[0m\u001b[36;1m\u001b[1;3m105.0\u001b[0m\u001b[32;1m\u001b[1;3m\n",
      "Invoking: `get_word_length` with `{'word': 'calculator'}`\n",
      "\n",
      "\n",
      "\u001b[0m\u001b[33;1m\u001b[1;3m10\u001b[0m\u001b[32;1m\u001b[1;3mThe result of \\( 15 \\times 7 \\) is \\( 105 \\), and the word \"calculator\" has \\( 10 \\) letters.\u001b[0m\n",
      "\n",
      "\u001b[1m> Finished chain.\u001b[0m\n",
      "\n",
      "✅ Final Answer: The result of \\( 15 \\times 7 \\) is \\( 105 \\), and the word \"calculator\" has \\( 10 \\) letters.\n",
      "\u001b[32;1m\u001b[1;3mThe result of \\( 15 \\times 7 \\) is \\( 105 \\), and the word \"calculator\" has \\( 10 \\) letters.\u001b[0m\n",
      "\n",
      "\u001b[1m> Finished chain.\u001b[0m\n",
      "\n",
      "✅ Final Answer: The result of \\( 15 \\times 7 \\) is \\( 105 \\), and the word \"calculator\" has \\( 10 \\) letters.\n"
     ]
    },
    {
     "data": {
      "text/plain": [
       "{'input': \"Calculate 15 * 7, then tell me how many letters are in 'calculator'\",\n",
       " 'output': 'The result of \\\\( 15 \\\\times 7 \\\\) is \\\\( 105 \\\\), and the word \"calculator\" has \\\\( 10 \\\\) letters.'}"
      ]
     },
     "execution_count": 52,
     "metadata": {},
     "output_type": "execute_result"
    }
   ],
   "source": [
    "from langchain_core.prompts import ChatPromptTemplate, MessagesPlaceholder, SystemMessagePromptTemplate, HumanMessagePromptTemplate\n",
    "\n",
    "# Get a prompt template for tool calling agents\n",
    "# Define a prompt template for the tool calling agent\n",
    "\n",
    "# Create a prompt template similar to the one from the hub\n",
    "system_template = \"You are a helpful assistant that can use tools to answer the user's question.\"\n",
    "system_message_prompt = SystemMessagePromptTemplate.from_template(system_template)\n",
    "\n",
    "human_template = \"{input}\"\n",
    "human_message_prompt = HumanMessagePromptTemplate.from_template(human_template)\n",
    "\n",
    "prompt = ChatPromptTemplate.from_messages(\n",
    "    [\n",
    "        system_message_prompt,\n",
    "        MessagesPlaceholder(variable_name=\"chat_history\", optional=True),\n",
    "        human_message_prompt,\n",
    "        MessagesPlaceholder(variable_name=\"agent_scratchpad\")\n",
    "    ]\n",
    ")\n",
    "\n",
    "# Initialize prompt with default empty chat history\n",
    "prompt = prompt.partial(chat_history=[])\n",
    "\n",
    "\n",
    "\n",
    "# Create the agent\n",
    "agent = create_tool_calling_agent(llm, tools, prompt)\n",
    "\n",
    "# Create an executor\n",
    "agent_executor = AgentExecutor(agent=agent, tools=tools, verbose=True)\n",
    "\n",
    "# Test the agent\n",
    "def test_langchain_agent(question: str):\n",
    "    print(f\"\\n🔍 Testing: {question}\")\n",
    "    print(\"-\" * 50)\n",
    "    result = agent_executor.invoke({\"input\": question})\n",
    "    print(f\"\\n✅ Final Answer: {result['output']}\")\n",
    "    return result\n",
    "\n",
    "# Test with multiple operations\n",
    "test_langchain_agent(\"Calculate 15 * 7, then tell me how many letters are in 'calculator'\")"
   ]
  },
  {
   "cell_type": "markdown",
   "id": "54276318",
   "metadata": {},
   "source": [
    "## 3. LangGraph Integration\n",
    "\n",
    "LangGraph allows us to create more complex, stateful workflows with better control over the agent's behavior."
   ]
  },
  {
   "cell_type": "code",
   "execution_count": 53,
   "id": "155c40a8",
   "metadata": {},
   "outputs": [],
   "source": [
    "from langgraph.graph import StateGraph, MessagesState\n",
    "from langgraph.prebuilt import ToolNode, tools_condition\n",
    "from langgraph.checkpoint.memory import MemorySaver\n",
    "from langchain_core.messages import BaseMessage, HumanMessage, AIMessage\n",
    "from typing import Annotated, Sequence\n",
    "import operator"
   ]
  },
  {
   "cell_type": "markdown",
   "id": "1ba8480c",
   "metadata": {},
   "source": [
    "### Step 3.1: Define State and Create Graph\n",
    "\n",
    "LangGraph uses state management to track conversation and tool usage."
   ]
  },
  {
   "cell_type": "code",
   "execution_count": 54,
   "id": "1a85f200",
   "metadata": {},
   "outputs": [
    {
     "name": "stdout",
     "output_type": "stream",
     "text": [
      "✅ LangGraph workflow created successfully!\n"
     ]
    }
   ],
   "source": [
    "# Define our state - LangGraph uses this to track conversation\n",
    "class AgentState(MessagesState):\n",
    "    # MessagesState already includes 'messages' field\n",
    "    # We can add custom fields if needed\n",
    "    pass\n",
    "\n",
    "# Create the tools node\n",
    "tool_node = ToolNode(tools)\n",
    "\n",
    "# Define the agent node\n",
    "def call_model(state: AgentState):\n",
    "    print(f\"🤖 Agent thinking... (processing {len(state['messages'])} messages)\")\n",
    "    response = llm_with_tools.invoke(state[\"messages\"])\n",
    "    return {\"messages\": [response]}\n",
    "\n",
    "# Create the graph\n",
    "workflow = StateGraph(AgentState)\n",
    "\n",
    "# Add nodes\n",
    "workflow.add_node(\"agent\", call_model)\n",
    "workflow.add_node(\"tools\", tool_node)\n",
    "\n",
    "# Set entry point\n",
    "workflow.set_entry_point(\"agent\")\n",
    "\n",
    "# Add conditional edges\n",
    "workflow.add_conditional_edges(\n",
    "    \"agent\",\n",
    "    tools_condition,  # This decides whether to call tools or end\n",
    ")\n",
    "\n",
    "# Add edge from tools back to agent\n",
    "workflow.add_edge(\"tools\", \"agent\")\n",
    "\n",
    "# Add memory for conversation state\n",
    "memory = MemorySaver()\n",
    "\n",
    "# Compile the graph\n",
    "app = workflow.compile(checkpointer=memory)\n",
    "\n",
    "print(\"✅ LangGraph workflow created successfully!\")"
   ]
  },
  {
   "cell_type": "markdown",
   "id": "d1310320",
   "metadata": {},
   "source": [
    "### Step 3.2: Visualize the Graph (Optional)\n",
    "\n",
    "Let's see what our graph looks like."
   ]
  },
  {
   "cell_type": "code",
   "execution_count": 55,
   "id": "46ecdead",
   "metadata": {},
   "outputs": [
    {
     "data": {
      "image/png": "[encoded data removed]",
      "text/plain": [
       "<IPython.core.display.Image object>"
      ]
     },
     "metadata": {},
     "output_type": "display_data"
    }
   ],
   "source": [
    "# Display the graph structure\n",
    "try:\n",
    "    from IPython.display import Image, display\n",
    "    display(Image(app.get_graph().draw_mermaid_png()))\n",
    "except Exception as e:\n",
    "    print(f\"Could not display graph: {e}\")\n",
    "    print(\"Graph structure:\")\n",
    "    print(app.get_graph().draw_ascii())"
   ]
  },
  {
   "cell_type": "markdown",
   "id": "bee3eca3",
   "metadata": {},
   "source": [
    "### Step 3.3: Run LangGraph Agent\n",
    "\n",
    "Now let's test our LangGraph agent with stateful conversations."
   ]
  },
  {
   "cell_type": "code",
   "execution_count": 56,
   "id": "32ce71c3",
   "metadata": {},
   "outputs": [
    {
     "name": "stdout",
     "output_type": "stream",
     "text": [
      "👤 User: Calculate 12 * 8\n",
      "--------------------------------------------------\n",
      "🤖 Agent thinking... (processing 1 messages)\n",
      "🤖 Agent thinking... (processing 3 messages)\n",
      "🤖 Agent thinking... (processing 3 messages)\n",
      "🤖 Agent: The result of \\( 12 \\times 8 \\) is \\( 96 \\).\n",
      "\n",
      "==================================================\n",
      "\n",
      "👤 User: Now add 50 to that result\n",
      "--------------------------------------------------\n",
      "🤖 Agent thinking... (processing 5 messages)\n",
      "🤖 Agent: The result of \\( 12 \\times 8 \\) is \\( 96 \\).\n",
      "\n",
      "==================================================\n",
      "\n",
      "👤 User: Now add 50 to that result\n",
      "--------------------------------------------------\n",
      "🤖 Agent thinking... (processing 5 messages)\n",
      "🤖 Agent thinking... (processing 7 messages)\n",
      "🤖 Agent thinking... (processing 7 messages)\n",
      "🤖 Agent: The result of adding 50 to 96 is \\( 146 \\).\n",
      "\n",
      "==================================================\n",
      "\n",
      "👤 User: How many characters are in the word 'LangGraph'?\n",
      "--------------------------------------------------\n",
      "🤖 Agent thinking... (processing 9 messages)\n",
      "🤖 Agent: The result of adding 50 to 96 is \\( 146 \\).\n",
      "\n",
      "==================================================\n",
      "\n",
      "👤 User: How many characters are in the word 'LangGraph'?\n",
      "--------------------------------------------------\n",
      "🤖 Agent thinking... (processing 9 messages)\n",
      "🤖 Agent thinking... (processing 11 messages)\n",
      "🤖 Agent thinking... (processing 11 messages)\n",
      "🤖 Agent: The word \"LangGraph\" has 9 characters.\n",
      "\n",
      "==================================================\n",
      "\n",
      "🤖 Agent: The word \"LangGraph\" has 9 characters.\n",
      "\n",
      "==================================================\n",
      "\n"
     ]
    }
   ],
   "source": [
    "def run_langgraph_agent(user_input: str, thread_id: str = \"default\"):\n",
    "    print(f\"👤 User: {user_input}\")\n",
    "    print(\"-\" * 50)\n",
    "    \n",
    "    # Configure the thread for conversation memory\n",
    "    config = {\"configurable\": {\"thread_id\": thread_id}}\n",
    "    \n",
    "    # Run the agent\n",
    "    for event in app.stream(\n",
    "        {\"messages\": [HumanMessage(content=user_input)]}, \n",
    "        config=config, # type: ignore\n",
    "        stream_mode=\"values\"\n",
    "    ):\n",
    "        # Print the latest message\n",
    "        if \"messages\" in event and event[\"messages\"]:\n",
    "            latest_message = event[\"messages\"][-1]\n",
    "            if hasattr(latest_message, 'content') and latest_message.content:\n",
    "                if isinstance(latest_message, AIMessage):\n",
    "                    print(f\"🤖 Agent: {latest_message.content}\")\n",
    "    \n",
    "    print(\"\\n\" + \"=\"*50 + \"\\n\")\n",
    "\n",
    "# Test the LangGraph agent\n",
    "run_langgraph_agent(\"Calculate 12 * 8\")\n",
    "run_langgraph_agent(\"Now add 50 to that result\", \"default\")  # Uses same thread\n",
    "run_langgraph_agent(\"How many characters are in the word 'LangGraph'?\", \"default\")"
   ]
  },
  {
   "cell_type": "markdown",
   "id": "b2cbe031",
   "metadata": {},
   "source": [
    "## 4. ReAct Agent Implementation\n",
    "\n",
    "Now let's implement a full ReAct (Reasoning and Acting) agent that shows its thinking process."
   ]
  },
  {
   "cell_type": "markdown",
   "id": "e818fd7c",
   "metadata": {},
   "source": [
    "### Step 4.1: Enhanced Tools for ReAct\n",
    "\n",
    "Let's add more tools to make our ReAct agent more interesting."
   ]
  },
  {
   "cell_type": "code",
   "execution_count": null,
   "id": "d6ae91cd",
   "metadata": {},
   "outputs": [
    {
     "name": "stdout",
     "output_type": "stream",
     "text": [
      "✅ Created 5 tools for ReAct agent:\n",
      "  - calculator_tool: Perform basic arithmetic operations (add, subtract, multiply, divide)\n",
      "  - get_word_length: Get the length of a word\n",
      "  - get_current_time: Get the current date and time\n",
      "  - generate_random_number: Generate a random number within a specified range\n",
      "  - text_analyzer: Analyze text and return various statistics\n"
     ]
    }
   ],
   "source": [
    "import datetime\n",
    "import random\n",
    "\n",
    "@tool\n",
    "def get_current_time() -> str:\n",
    "    \"\"\"Get the current date and time.\n",
    "    \n",
    "    Returns:\n",
    "        Current date and time as a string\n",
    "    \"\"\"\n",
    "    return datetime.datetime.now().strftime(\"%Y-%m-%d %H:%M:%S\")\n",
    "@tool\n",
    "def text_analyzer(text: str) -> dict:\n",
    "    \"\"\"Analyze text and return various statistics.\n",
    "    \n",
    "    Args:\n",
    "        text: The text to analyze\n",
    "    \n",
    "    Returns:\n",
    "        Dictionary with text statistics\n",
    "    \"\"\"\n",
    "    words = text.split()\n",
    "    sentences = text.split('.') if '.' in text else [text]\n",
    "    \n",
    "    return {\n",
    "        \"character_count\": len(text),\n",
    "        \"word_count\": len(words),\n",
    "        \"sentence_count\": len([s for s in sentences if s.strip()]),\n",
    "        \"average_word_length\": sum(len(word) for word in words) / len(words) if words else 0\n",
    "    }\n",
    "\n",
    "@tool\n",
    "def generate_random_number(min_value: int = 1, max_value: int = 100) -> int:\n",
    "    \"\"\"Generate a random number between min_value and max_value.\n",
    "    \n",
    "    Args:\n",
    "        min_value: Minimum value (inclusive)\n",
    "        max_value: Maximum value (inclusive)\n",
    "    \"\"\"\n",
    "    return random.randint(min_value, max_value)\n",
    "\n",
    "# Updated tools list\n",
    "react_tools = [\n",
    "    calculator_tool,\n",
    "    get_word_length,\n",
    "    get_current_time,\n",
    "    generate_random_number,\n",
    "    text_analyzer\n",
    "]\n",
    "\n",
    "print(f\"✅ Created {len(react_tools)} tools for ReAct agent:\")\n",
    "for tool in react_tools:\n",
    "    print(f\"  - {tool.name}: {tool.description.split('.')[0]}\")"
   ]
  },
  {
   "cell_type": "markdown",
   "id": "4be63ed5",
   "metadata": {},
   "source": [
    "### Step 4.2: Custom ReAct Prompt\n",
    "\n",
    "The key to ReAct is the prompt that encourages reasoning and action steps."
   ]
  },
  {
   "cell_type": "code",
   "execution_count": 70,
   "id": "26820dac",
   "metadata": {},
   "outputs": [
    {
     "name": "stdout",
     "output_type": "stream",
     "text": [
      "✅ ReAct prompt template created\n"
     ]
    }
   ],
   "source": [
    "\n",
    "# Custom ReAct prompt template\n",
    "react_prompt = \"\"\"\n",
    "You are a helpful assistant that can reason about problems and use tools to solve them.\n",
    "\"\"\"\n",
    "\n",
    "print(\"✅ ReAct prompt template created\")"
   ]
  },
  {
   "cell_type": "markdown",
   "id": "73a069ea",
   "metadata": {},
   "source": [
    "### Step 4.3: ReAct Agent with LangGraph\n",
    "\n",
    "Let's implement a ReAct agent using LangGraph that shows clear reasoning steps."
   ]
  },
  {
   "cell_type": "code",
   "execution_count": 73,
   "id": "89631079",
   "metadata": {},
   "outputs": [
    {
     "name": "stdout",
     "output_type": "stream",
     "text": [
      "🎯 Question: I need you to:\n",
      "1. Generate a random number between 10 and 50\n",
      "2. Multiply that number by 3\n",
      "3. Tell me what time it is\n",
      "4. Analyze the text \"The quick brown fox jumps over the lazy dog\"\n",
      "\n",
      "📝 ReAct Agent Reasoning Process:\n",
      "============================================================\n",
      "============================================================\n"
     ]
    },
    {
     "data": {
      "text/plain": [
       "{'messages': [AIMessage(content='How can I assist you today?', additional_kwargs={'refusal': None}, response_metadata={'token_usage': {'completion_tokens': 8, 'prompt_tokens': 363, 'total_tokens': 371, 'completion_tokens_details': {'accepted_prediction_tokens': 0, 'audio_tokens': 0, 'reasoning_tokens': 0, 'rejected_prediction_tokens': 0}, 'prompt_tokens_details': {'audio_tokens': 0, 'cached_tokens': 0}}, 'model_name': 'gpt-4o-mini-2024-07-18', 'system_fingerprint': 'fp_34a54ae93c', 'id': 'chatcmpl-Bx3xIyfwWnr1Us7DHPgcrfy4YOD5X', 'service_tier': 'default', 'finish_reason': 'stop', 'logprobs': None}, id='run--e212c491-65a0-4231-b9ee-1cde70a66d3b-0', usage_metadata={'input_tokens': 363, 'output_tokens': 8, 'total_tokens': 371, 'input_token_details': {'audio': 0, 'cache_read': 0}, 'output_token_details': {'audio': 0, 'reasoning': 0}})]}"
      ]
     },
     "execution_count": 73,
     "metadata": {},
     "output_type": "execute_result"
    }
   ],
   "source": [
    "from langgraph.prebuilt import create_react_agent\n",
    "from langchain_core.prompts import PromptTemplate\n",
    "\n",
    "# Create ReAct prompt\n",
    "\n",
    "\n",
    "# Create ReAct agent using LangGraph's implementation\n",
    "react_agent = create_react_agent(model=llm, tools=react_tools, prompt=react_prompt, version=\"v2\")\n",
    "\n",
    "# Function to run the ReAct agent\n",
    "def run_react_agent(question: str):\n",
    "    print(f\"🎯 Question: {question}\")\n",
    "    print(\"\\n📝 ReAct Agent Reasoning Process:\")\n",
    "    print(\"=\" * 60)\n",
    "    \n",
    "    # Stream the agent's thinking process to see step-by-step reasoning\n",
    "    for chunk in react_agent.stream({\"input\": question}):\n",
    "        if \"actions\" in chunk:\n",
    "            for action in chunk[\"actions\"]:\n",
    "                print(f\"🧠 Thought: {action.log}\")\n",
    "                print(f\"🔧 Action: {action.tool}\")\n",
    "                print(f\"📥 Input: {action.tool_input}\")\n",
    "                print(\"-\" * 40)\n",
    "        elif \"output\" in chunk:\n",
    "            print(f\"\\n🎉 Final Answer: {chunk['output']}\")\n",
    "    \n",
    "    print(\"=\" * 60)\n",
    "    \n",
    "    # Return the final result\n",
    "    result = react_agent.invoke({\"input\": question})\n",
    "    return result\n",
    "\n",
    "# Test with a complex multi-step problem\n",
    "complex_question = \"\"\"\n",
    "I need you to:\n",
    "1. Generate a random number between 10 and 50\n",
    "2. Multiply that number by 3\n",
    "3. Tell me what time it is\n",
    "4. Analyze the text \"The quick brown fox jumps over the lazy dog\"\n",
    "\"\"\"\n",
    "\n",
    "run_react_agent(complex_question.strip())"
   ]
  },
  {
   "cell_type": "markdown",
   "id": "e6e3f68a",
   "metadata": {},
   "source": [
    "## 🏁 Conclusion\n",
    "\n",
    "Congratulations! You've learned how to:\n",
    "\n",
    "1. **Understand tool calling fundamentals** - How LLMs decide when and how to use tools\n",
    "2. **Implement basic tool calling** - Direct OpenAI API usage with manual handling\n",
    "3. **Use LangChain for simplification** - Leverage frameworks for easier development\n",
    "4. **Build complex workflows with LangGraph** - State management and visual workflows\n",
    "5. **Create ReAct agents** - Reasoning and acting patterns for better problem-solving\n",
    "\n",
    "### Next Steps:\n",
    "- Try creating more complex tools (web search, file operations, API calls)\n",
    "- Experiment with different prompting strategies\n",
    "- Build domain-specific agents for your use cases\n",
    "- Explore error handling and tool validation\n",
    "- Look into tool composition and chaining\n",
    "\n",
    "Happy building! 🚀"
   ]
  }
 ],
 "metadata": {
  "kernelspec": {
   "display_name": "tutorials",
   "language": "python",
   "name": "python3"
  },
  "language_info": {
   "codemirror_mode": {
    "name": "ipython",
    "version": 3
   },
   "file_extension": ".py",
   "mimetype": "text/x-python",
   "name": "python",
   "nbconvert_exporter": "python",
   "pygments_lexer": "ipython3",
   "version": "3.13.2"
  }
 },
 "nbformat": 4,
 "nbformat_minor": 5
}
